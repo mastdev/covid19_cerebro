{
 "cells": [
  {
   "cell_type": "code",
   "execution_count": 583,
   "metadata": {},
   "outputs": [],
   "source": [
    "#Importing All the Necessary Libraries\n",
    "import matplotlib.pyplot as plt\n",
    "import pandas as pd\n",
    "import numpy as np\n",
    "import seaborn as sns\n",
    "import tensorflow as tf"
   ]
  },
  {
   "cell_type": "code",
   "execution_count": 584,
   "metadata": {},
   "outputs": [
    {
     "data": {
      "text/html": [
       "<div>\n",
       "<style scoped>\n",
       "    .dataframe tbody tr th:only-of-type {\n",
       "        vertical-align: middle;\n",
       "    }\n",
       "\n",
       "    .dataframe tbody tr th {\n",
       "        vertical-align: top;\n",
       "    }\n",
       "\n",
       "    .dataframe thead th {\n",
       "        text-align: right;\n",
       "    }\n",
       "</style>\n",
       "<table border=\"1\" class=\"dataframe\">\n",
       "  <thead>\n",
       "    <tr style=\"text-align: right;\">\n",
       "      <th></th>\n",
       "      <th>Index</th>\n",
       "      <th>0</th>\n",
       "      <th>1</th>\n",
       "      <th>2</th>\n",
       "      <th>3</th>\n",
       "      <th>4</th>\n",
       "      <th>5</th>\n",
       "      <th>6</th>\n",
       "      <th>7</th>\n",
       "      <th>8</th>\n",
       "      <th>...</th>\n",
       "      <th>990</th>\n",
       "      <th>991</th>\n",
       "      <th>992</th>\n",
       "      <th>993</th>\n",
       "      <th>994</th>\n",
       "      <th>995</th>\n",
       "      <th>996</th>\n",
       "      <th>997</th>\n",
       "      <th>998</th>\n",
       "      <th>999</th>\n",
       "    </tr>\n",
       "  </thead>\n",
       "  <tbody>\n",
       "    <tr>\n",
       "      <td>0</td>\n",
       "      <td>0</td>\n",
       "      <td>2360.468121</td>\n",
       "      <td>3170.244556</td>\n",
       "      <td>1697.758472</td>\n",
       "      <td>5598.597705</td>\n",
       "      <td>-1122.907590</td>\n",
       "      <td>980.658815</td>\n",
       "      <td>1178.046905</td>\n",
       "      <td>3296.901426</td>\n",
       "      <td>549.362795</td>\n",
       "      <td>...</td>\n",
       "      <td>31.733982</td>\n",
       "      <td>18.159848</td>\n",
       "      <td>62.793697</td>\n",
       "      <td>26.542204</td>\n",
       "      <td>20.632675</td>\n",
       "      <td>11.898688</td>\n",
       "      <td>24.426936</td>\n",
       "      <td>12.326023</td>\n",
       "      <td>2.524550</td>\n",
       "      <td>23.820559</td>\n",
       "    </tr>\n",
       "    <tr>\n",
       "      <td>1</td>\n",
       "      <td>1</td>\n",
       "      <td>9824.143037</td>\n",
       "      <td>3357.881942</td>\n",
       "      <td>201.543848</td>\n",
       "      <td>3019.119601</td>\n",
       "      <td>-4953.704512</td>\n",
       "      <td>-666.601915</td>\n",
       "      <td>192.440353</td>\n",
       "      <td>4142.487313</td>\n",
       "      <td>2262.905200</td>\n",
       "      <td>...</td>\n",
       "      <td>6.011481</td>\n",
       "      <td>46.987701</td>\n",
       "      <td>-23.835829</td>\n",
       "      <td>14.808673</td>\n",
       "      <td>5.638663</td>\n",
       "      <td>-16.839797</td>\n",
       "      <td>20.230744</td>\n",
       "      <td>-1.293179</td>\n",
       "      <td>82.583835</td>\n",
       "      <td>59.123195</td>\n",
       "    </tr>\n",
       "    <tr>\n",
       "      <td>2</td>\n",
       "      <td>2</td>\n",
       "      <td>2341.483987</td>\n",
       "      <td>1972.182132</td>\n",
       "      <td>5321.074820</td>\n",
       "      <td>2076.880657</td>\n",
       "      <td>-1057.674537</td>\n",
       "      <td>550.924115</td>\n",
       "      <td>2006.304348</td>\n",
       "      <td>-920.764523</td>\n",
       "      <td>-639.762922</td>\n",
       "      <td>...</td>\n",
       "      <td>29.900149</td>\n",
       "      <td>-16.289829</td>\n",
       "      <td>-31.641735</td>\n",
       "      <td>-11.114851</td>\n",
       "      <td>-2.929377</td>\n",
       "      <td>-58.487379</td>\n",
       "      <td>6.710407</td>\n",
       "      <td>1.146231</td>\n",
       "      <td>24.553120</td>\n",
       "      <td>-35.122233</td>\n",
       "    </tr>\n",
       "    <tr>\n",
       "      <td>3</td>\n",
       "      <td>3</td>\n",
       "      <td>9588.800823</td>\n",
       "      <td>10121.225552</td>\n",
       "      <td>7233.253861</td>\n",
       "      <td>-495.263472</td>\n",
       "      <td>-1506.855675</td>\n",
       "      <td>2146.521265</td>\n",
       "      <td>-2909.550994</td>\n",
       "      <td>878.050546</td>\n",
       "      <td>2200.871095</td>\n",
       "      <td>...</td>\n",
       "      <td>18.709080</td>\n",
       "      <td>8.423986</td>\n",
       "      <td>5.825512</td>\n",
       "      <td>-41.753367</td>\n",
       "      <td>-16.802495</td>\n",
       "      <td>-25.847536</td>\n",
       "      <td>-25.330617</td>\n",
       "      <td>13.822268</td>\n",
       "      <td>10.729671</td>\n",
       "      <td>-5.975498</td>\n",
       "    </tr>\n",
       "    <tr>\n",
       "      <td>4</td>\n",
       "      <td>4</td>\n",
       "      <td>2902.667817</td>\n",
       "      <td>2847.755305</td>\n",
       "      <td>3424.176309</td>\n",
       "      <td>5046.393309</td>\n",
       "      <td>-1387.708023</td>\n",
       "      <td>-1713.565415</td>\n",
       "      <td>3364.930083</td>\n",
       "      <td>-253.248893</td>\n",
       "      <td>-3011.743840</td>\n",
       "      <td>...</td>\n",
       "      <td>26.846112</td>\n",
       "      <td>52.430472</td>\n",
       "      <td>102.027308</td>\n",
       "      <td>-72.852526</td>\n",
       "      <td>-24.766511</td>\n",
       "      <td>26.342181</td>\n",
       "      <td>-18.998844</td>\n",
       "      <td>18.412844</td>\n",
       "      <td>-0.115226</td>\n",
       "      <td>15.015220</td>\n",
       "    </tr>\n",
       "  </tbody>\n",
       "</table>\n",
       "<p>5 rows × 1001 columns</p>\n",
       "</div>"
      ],
      "text/plain": [
       "   Index            0             1            2            3            4  \\\n",
       "0      0  2360.468121   3170.244556  1697.758472  5598.597705 -1122.907590   \n",
       "1      1  9824.143037   3357.881942   201.543848  3019.119601 -4953.704512   \n",
       "2      2  2341.483987   1972.182132  5321.074820  2076.880657 -1057.674537   \n",
       "3      3  9588.800823  10121.225552  7233.253861  -495.263472 -1506.855675   \n",
       "4      4  2902.667817   2847.755305  3424.176309  5046.393309 -1387.708023   \n",
       "\n",
       "             5            6            7            8  ...        990  \\\n",
       "0   980.658815  1178.046905  3296.901426   549.362795  ...  31.733982   \n",
       "1  -666.601915   192.440353  4142.487313  2262.905200  ...   6.011481   \n",
       "2   550.924115  2006.304348  -920.764523  -639.762922  ...  29.900149   \n",
       "3  2146.521265 -2909.550994   878.050546  2200.871095  ...  18.709080   \n",
       "4 -1713.565415  3364.930083  -253.248893 -3011.743840  ...  26.846112   \n",
       "\n",
       "         991         992        993        994        995        996  \\\n",
       "0  18.159848   62.793697  26.542204  20.632675  11.898688  24.426936   \n",
       "1  46.987701  -23.835829  14.808673   5.638663 -16.839797  20.230744   \n",
       "2 -16.289829  -31.641735 -11.114851  -2.929377 -58.487379   6.710407   \n",
       "3   8.423986    5.825512 -41.753367 -16.802495 -25.847536 -25.330617   \n",
       "4  52.430472  102.027308 -72.852526 -24.766511  26.342181 -18.998844   \n",
       "\n",
       "         997        998        999  \n",
       "0  12.326023   2.524550  23.820559  \n",
       "1  -1.293179  82.583835  59.123195  \n",
       "2   1.146231  24.553120 -35.122233  \n",
       "3  13.822268  10.729671  -5.975498  \n",
       "4  18.412844  -0.115226  15.015220  \n",
       "\n",
       "[5 rows x 1001 columns]"
      ]
     },
     "execution_count": 584,
     "metadata": {},
     "output_type": "execute_result"
    }
   ],
   "source": [
    "test_data=pd.read_csv('coronaTest.csv') # Reading the data given as a csv file that has to checked for test\n",
    "test_data.head()"
   ]
  },
  {
   "cell_type": "code",
   "execution_count": 585,
   "metadata": {},
   "outputs": [
    {
     "name": "stdout",
     "output_type": "stream",
     "text": [
      "(1332, 1001)\n",
      "False\n"
     ]
    }
   ],
   "source": [
    "print(test_data.shape)\n",
    "print(test_data.isnull().values.any()) # Checking if there exits any null value in the dataset"
   ]
  },
  {
   "cell_type": "code",
   "execution_count": 586,
   "metadata": {},
   "outputs": [
    {
     "data": {
      "text/html": [
       "<div>\n",
       "<style scoped>\n",
       "    .dataframe tbody tr th:only-of-type {\n",
       "        vertical-align: middle;\n",
       "    }\n",
       "\n",
       "    .dataframe tbody tr th {\n",
       "        vertical-align: top;\n",
       "    }\n",
       "\n",
       "    .dataframe thead th {\n",
       "        text-align: right;\n",
       "    }\n",
       "</style>\n",
       "<table border=\"1\" class=\"dataframe\">\n",
       "  <thead>\n",
       "    <tr style=\"text-align: right;\">\n",
       "      <th></th>\n",
       "      <th>Index</th>\n",
       "      <th>0</th>\n",
       "      <th>1</th>\n",
       "      <th>2</th>\n",
       "      <th>3</th>\n",
       "      <th>4</th>\n",
       "      <th>5</th>\n",
       "      <th>6</th>\n",
       "      <th>7</th>\n",
       "      <th>8</th>\n",
       "      <th>...</th>\n",
       "      <th>991</th>\n",
       "      <th>992</th>\n",
       "      <th>993</th>\n",
       "      <th>994</th>\n",
       "      <th>995</th>\n",
       "      <th>996</th>\n",
       "      <th>997</th>\n",
       "      <th>998</th>\n",
       "      <th>999</th>\n",
       "      <th>status</th>\n",
       "    </tr>\n",
       "  </thead>\n",
       "  <tbody>\n",
       "    <tr>\n",
       "      <td>0</td>\n",
       "      <td>0</td>\n",
       "      <td>5280.167730</td>\n",
       "      <td>3837.700942</td>\n",
       "      <td>1681.942638</td>\n",
       "      <td>5843.046523</td>\n",
       "      <td>-232.842418</td>\n",
       "      <td>818.394788</td>\n",
       "      <td>3030.753422</td>\n",
       "      <td>2277.569997</td>\n",
       "      <td>573.577558</td>\n",
       "      <td>...</td>\n",
       "      <td>-11.788928</td>\n",
       "      <td>-4.290970</td>\n",
       "      <td>2.594959</td>\n",
       "      <td>-43.219612</td>\n",
       "      <td>-4.240717</td>\n",
       "      <td>31.517564</td>\n",
       "      <td>-41.453802</td>\n",
       "      <td>17.277788</td>\n",
       "      <td>-20.736469</td>\n",
       "      <td>0</td>\n",
       "    </tr>\n",
       "    <tr>\n",
       "      <td>1</td>\n",
       "      <td>1</td>\n",
       "      <td>-3223.055169</td>\n",
       "      <td>-1115.166494</td>\n",
       "      <td>-1336.564180</td>\n",
       "      <td>1286.738497</td>\n",
       "      <td>3403.835973</td>\n",
       "      <td>1036.306212</td>\n",
       "      <td>-401.889306</td>\n",
       "      <td>323.775792</td>\n",
       "      <td>1494.498731</td>\n",
       "      <td>...</td>\n",
       "      <td>-86.010820</td>\n",
       "      <td>-31.261799</td>\n",
       "      <td>103.364060</td>\n",
       "      <td>46.960054</td>\n",
       "      <td>-62.536342</td>\n",
       "      <td>-92.178920</td>\n",
       "      <td>-39.621644</td>\n",
       "      <td>-7.973821</td>\n",
       "      <td>-30.334445</td>\n",
       "      <td>1</td>\n",
       "    </tr>\n",
       "    <tr>\n",
       "      <td>2</td>\n",
       "      <td>2</td>\n",
       "      <td>8007.313938</td>\n",
       "      <td>5491.331210</td>\n",
       "      <td>3663.342202</td>\n",
       "      <td>593.011444</td>\n",
       "      <td>-2989.930294</td>\n",
       "      <td>-1650.875980</td>\n",
       "      <td>1118.997993</td>\n",
       "      <td>2391.424050</td>\n",
       "      <td>2575.013614</td>\n",
       "      <td>...</td>\n",
       "      <td>20.228240</td>\n",
       "      <td>-22.978302</td>\n",
       "      <td>-68.078558</td>\n",
       "      <td>-10.060078</td>\n",
       "      <td>-19.974270</td>\n",
       "      <td>43.649501</td>\n",
       "      <td>-40.868866</td>\n",
       "      <td>-88.093409</td>\n",
       "      <td>7.586640</td>\n",
       "      <td>0</td>\n",
       "    </tr>\n",
       "    <tr>\n",
       "      <td>3</td>\n",
       "      <td>3</td>\n",
       "      <td>4533.969789</td>\n",
       "      <td>1859.902341</td>\n",
       "      <td>-2106.670412</td>\n",
       "      <td>-2938.184416</td>\n",
       "      <td>-1435.850576</td>\n",
       "      <td>-1167.242348</td>\n",
       "      <td>-476.518632</td>\n",
       "      <td>-215.481546</td>\n",
       "      <td>-1838.518402</td>\n",
       "      <td>...</td>\n",
       "      <td>-0.340331</td>\n",
       "      <td>-47.293885</td>\n",
       "      <td>-7.099134</td>\n",
       "      <td>-1.138214</td>\n",
       "      <td>-2.997165</td>\n",
       "      <td>20.675353</td>\n",
       "      <td>5.936402</td>\n",
       "      <td>80.723711</td>\n",
       "      <td>-58.106523</td>\n",
       "      <td>1</td>\n",
       "    </tr>\n",
       "    <tr>\n",
       "      <td>4</td>\n",
       "      <td>4</td>\n",
       "      <td>921.522640</td>\n",
       "      <td>-1200.312956</td>\n",
       "      <td>-14.678130</td>\n",
       "      <td>1779.298398</td>\n",
       "      <td>-3506.129638</td>\n",
       "      <td>855.198666</td>\n",
       "      <td>-943.207950</td>\n",
       "      <td>-1956.808320</td>\n",
       "      <td>320.996880</td>\n",
       "      <td>...</td>\n",
       "      <td>20.692532</td>\n",
       "      <td>-90.675207</td>\n",
       "      <td>-25.654549</td>\n",
       "      <td>46.343281</td>\n",
       "      <td>-9.284992</td>\n",
       "      <td>82.467545</td>\n",
       "      <td>13.337126</td>\n",
       "      <td>-61.225668</td>\n",
       "      <td>15.347131</td>\n",
       "      <td>1</td>\n",
       "    </tr>\n",
       "  </tbody>\n",
       "</table>\n",
       "<p>5 rows × 1002 columns</p>\n",
       "</div>"
      ],
      "text/plain": [
       "   Index            0            1            2            3            4  \\\n",
       "0      0  5280.167730  3837.700942  1681.942638  5843.046523  -232.842418   \n",
       "1      1 -3223.055169 -1115.166494 -1336.564180  1286.738497  3403.835973   \n",
       "2      2  8007.313938  5491.331210  3663.342202   593.011444 -2989.930294   \n",
       "3      3  4533.969789  1859.902341 -2106.670412 -2938.184416 -1435.850576   \n",
       "4      4   921.522640 -1200.312956   -14.678130  1779.298398 -3506.129638   \n",
       "\n",
       "             5            6            7            8  ...        991  \\\n",
       "0   818.394788  3030.753422  2277.569997   573.577558  ... -11.788928   \n",
       "1  1036.306212  -401.889306   323.775792  1494.498731  ... -86.010820   \n",
       "2 -1650.875980  1118.997993  2391.424050  2575.013614  ...  20.228240   \n",
       "3 -1167.242348  -476.518632  -215.481546 -1838.518402  ...  -0.340331   \n",
       "4   855.198666  -943.207950 -1956.808320   320.996880  ...  20.692532   \n",
       "\n",
       "         992         993        994        995        996        997  \\\n",
       "0  -4.290970    2.594959 -43.219612  -4.240717  31.517564 -41.453802   \n",
       "1 -31.261799  103.364060  46.960054 -62.536342 -92.178920 -39.621644   \n",
       "2 -22.978302  -68.078558 -10.060078 -19.974270  43.649501 -40.868866   \n",
       "3 -47.293885   -7.099134  -1.138214  -2.997165  20.675353   5.936402   \n",
       "4 -90.675207  -25.654549  46.343281  -9.284992  82.467545  13.337126   \n",
       "\n",
       "         998        999  status  \n",
       "0  17.277788 -20.736469       0  \n",
       "1  -7.973821 -30.334445       1  \n",
       "2 -88.093409   7.586640       0  \n",
       "3  80.723711 -58.106523       1  \n",
       "4 -61.225668  15.347131       1  \n",
       "\n",
       "[5 rows x 1002 columns]"
      ]
     },
     "execution_count": 586,
     "metadata": {},
     "output_type": "execute_result"
    }
   ],
   "source": [
    "data=pd.read_csv('coronaTrain.csv') # # Reading the training data given as a csv file to create the neural network model\n",
    "data.head()"
   ]
  },
  {
   "cell_type": "code",
   "execution_count": 587,
   "metadata": {},
   "outputs": [
    {
     "name": "stdout",
     "output_type": "stream",
     "text": [
      "(1287, 1002)\n",
      "False\n"
     ]
    }
   ],
   "source": [
    "print(data.shape)\n",
    "print(data.isnull().values.any()) # Checking if there exits any null value in the dataset"
   ]
  },
  {
   "cell_type": "code",
   "execution_count": 588,
   "metadata": {},
   "outputs": [],
   "source": [
    "m=data.corr() # Getting the correlation matrix"
   ]
  },
  {
   "cell_type": "code",
   "execution_count": 589,
   "metadata": {},
   "outputs": [],
   "source": [
    "index=[]\n",
    "for i in range(len(m.iloc[:,-1])):  # Created the an array with index of the columns that associate theselves with a higher correlation to the 'Status' column\n",
    "    if abs(m['status'][i])>0.20:\n",
    "        index.append(i);"
   ]
  },
  {
   "cell_type": "code",
   "execution_count": 590,
   "metadata": {},
   "outputs": [
    {
     "data": {
      "text/plain": [
       "1001"
      ]
     },
     "execution_count": 590,
     "metadata": {},
     "output_type": "execute_result"
    }
   ],
   "source": [
    "index.pop() # Removing the last index i.e. of the 'Status' column itself"
   ]
  },
  {
   "cell_type": "code",
   "execution_count": 591,
   "metadata": {},
   "outputs": [],
   "source": [
    "test_list = [str(i) for i in index]"
   ]
  },
  {
   "cell_type": "code",
   "execution_count": 592,
   "metadata": {},
   "outputs": [
    {
     "name": "stdout",
     "output_type": "stream",
     "text": [
      "Column  1   -0.44055638929705615\n",
      "Column  2   -0.7057043766444717\n",
      "Column  3   -0.33733617247579384\n",
      "Column  8   -0.3485427831621467\n",
      "Column  10   0.3864013631447074\n",
      "Column  11   -0.607194166285778\n",
      "Column  16   -0.22193016405952068\n",
      "Column  21   -0.2475662985244077\n",
      "Column  22   -0.2700331548516934\n",
      "Column  28   -0.2214662601221562\n",
      "Column  33   -0.2015763665312899\n",
      "Column  35   0.2162741301088741\n",
      "Column  61   -0.21671850689764488\n",
      "Column  62   0.2214610940727301\n"
     ]
    },
    {
     "data": {
      "image/png": "[encoded data removed]",
      "text/plain": [
       "<Figure size 432x288 with 1 Axes>"
      ]
     },
     "metadata": {
      "needs_background": "light"
     },
     "output_type": "display_data"
    }
   ],
   "source": [
    "data.boxplot(column=(test_list))\n",
    "for i in index:\n",
    "    print(\"Column \",i,\" \",m['status'][i]) # Plotting the boxplot of the 'Status' column for columns that have a correlation >0.2"
   ]
  },
  {
   "cell_type": "code",
   "execution_count": 593,
   "metadata": {},
   "outputs": [
    {
     "data": {
      "text/plain": [
       "(1287, 1002)"
      ]
     },
     "execution_count": 593,
     "metadata": {},
     "output_type": "execute_result"
    }
   ],
   "source": [
    "q1=data['3'].quantile(0.75)\n",
    "q3=data['3'].quantile(0.25)\n",
    "IQR=q1-q3\n",
    "outlier=(data['3']>(q1+1.5*IQR)) | (data['3']<(q3-1.5*IQR)) # Replacing the oultier with median value\n",
    "median=float(data['3'].median())\n",
    "data[\"3\"] = np.where(outlier, median, data[\"3\"])\n",
    "data.shape"
   ]
  },
  {
   "cell_type": "code",
   "execution_count": 594,
   "metadata": {},
   "outputs": [
    {
     "data": {
      "text/plain": [
       "(1287, 1002)"
      ]
     },
     "execution_count": 594,
     "metadata": {},
     "output_type": "execute_result"
    }
   ],
   "source": [
    "q1=data['28'].quantile(0.75)\n",
    "q3=data['28'].quantile(0.25)\n",
    "IQR=q1-q3\n",
    "outlier=(data['28']>(q1+1.5*IQR)) | (data['28']<(q3-1.5*IQR)) # Replacing the oultier with median value\n",
    "median=float(data['28'].median())\n",
    "data[\"28\"] = np.where(outlier, median, data[\"28\"])\n",
    "data.shape"
   ]
  },
  {
   "cell_type": "code",
   "execution_count": 595,
   "metadata": {},
   "outputs": [
    {
     "data": {
      "text/plain": [
       "(1287, 1002)"
      ]
     },
     "execution_count": 595,
     "metadata": {},
     "output_type": "execute_result"
    }
   ],
   "source": [
    "q1=data['16'].quantile(0.75)\n",
    "q3=data['16'].quantile(0.25)\n",
    "IQR=q1-q3\n",
    "outlier=(data['16']>(q1+1.5*IQR)) | (data['16']<(q3-1.5*IQR)) # Replacing the oultier with median value\n",
    "median=float(data['16'].median())\n",
    "data[\"16\"] = np.where(outlier, median, data[\"16\"])\n",
    "data.shape"
   ]
  },
  {
   "cell_type": "code",
   "execution_count": 596,
   "metadata": {},
   "outputs": [
    {
     "data": {
      "text/plain": [
       "(1287, 1002)"
      ]
     },
     "execution_count": 596,
     "metadata": {},
     "output_type": "execute_result"
    }
   ],
   "source": [
    "q1=data['21'].quantile(0.75)\n",
    "q3=data['21'].quantile(0.25)\n",
    "IQR=q1-q3\n",
    "outlier=(data['21']>(q1+1.5*IQR)) | (data['21']<(q3-1.5*IQR)) # Replacing the oultier with median value\n",
    "median=float(data['21'].median())\n",
    "data[\"21\"] = np.where(outlier, median, data[\"21\"])\n",
    "data.shape"
   ]
  },
  {
   "cell_type": "code",
   "execution_count": 597,
   "metadata": {},
   "outputs": [
    {
     "data": {
      "text/plain": [
       "(1287, 1002)"
      ]
     },
     "execution_count": 597,
     "metadata": {},
     "output_type": "execute_result"
    }
   ],
   "source": [
    "q1=data['22'].quantile(0.75)\n",
    "q3=data['22'].quantile(0.25)\n",
    "IQR=q1-q3\n",
    "outlier=(data['22']>(q1+1.5*IQR)) | (data['22']<(q3-1.5*IQR)) # Replacing the oultier with median value\n",
    "median=float(data['22'].median())\n",
    "data[\"22\"] = np.where(outlier, median, data[\"22\"])\n",
    "data.shape"
   ]
  },
  {
   "cell_type": "code",
   "execution_count": 598,
   "metadata": {},
   "outputs": [
    {
     "name": "stdout",
     "output_type": "stream",
     "text": [
      "<class 'pandas.core.frame.DataFrame'>\n",
      "RangeIndex: 1287 entries, 0 to 1286\n",
      "Columns: 1002 entries, Index to status\n",
      "dtypes: float64(1000), int64(2)\n",
      "memory usage: 9.8 MB\n"
     ]
    }
   ],
   "source": [
    "data.info() # Checking data type"
   ]
  },
  {
   "cell_type": "code",
   "execution_count": 599,
   "metadata": {},
   "outputs": [],
   "source": [
    "x=data.drop(columns=['status','Index']) # X the feature set to create the model\n",
    "y=data[['status']] # Y the target value "
   ]
  },
  {
   "cell_type": "code",
   "execution_count": 600,
   "metadata": {},
   "outputs": [
    {
     "data": {
      "text/plain": [
       "(1287, 1000)"
      ]
     },
     "execution_count": 600,
     "metadata": {},
     "output_type": "execute_result"
    }
   ],
   "source": [
    "x.shape"
   ]
  },
  {
   "cell_type": "code",
   "execution_count": 601,
   "metadata": {},
   "outputs": [],
   "source": [
    "from sklearn.model_selection import train_test_split\n",
    "from sklearn.metrics import confusion_matrix\n",
    "from sklearn.metrics import accuracy_score \n",
    "x_train, x_test,y_train,y_test = train_test_split(x,y,test_size = 0.2)  # Test and Train split"
   ]
  },
  {
   "cell_type": "code",
   "execution_count": 607,
   "metadata": {},
   "outputs": [
    {
     "name": "stdout",
     "output_type": "stream",
     "text": [
      "Train on 1029 samples, validate on 258 samples\n",
      "Epoch 1/20\n",
      "1029/1029 [==============================] - 0s 440us/sample - loss: 79.5220 - accuracy: 0.7357 - val_loss: 14.6801 - val_accuracy: 0.8760\n",
      "Epoch 2/20\n",
      "1029/1029 [==============================] - 0s 194us/sample - loss: 14.3679 - accuracy: 0.9174 - val_loss: 6.5382 - val_accuracy: 0.9419\n",
      "Epoch 3/20\n",
      "1029/1029 [==============================] - 0s 160us/sample - loss: 11.5795 - accuracy: 0.9378 - val_loss: 7.2225 - val_accuracy: 0.9380\n",
      "Epoch 4/20\n",
      "1029/1029 [==============================] - 0s 170us/sample - loss: 8.2513 - accuracy: 0.9436 - val_loss: 5.6197 - val_accuracy: 0.9457\n",
      "Epoch 5/20\n",
      "1029/1029 [==============================] - 0s 173us/sample - loss: 7.2371 - accuracy: 0.9611 - val_loss: 5.2895 - val_accuracy: 0.9496\n",
      "Epoch 6/20\n",
      "1029/1029 [==============================] - 0s 161us/sample - loss: 2.6675 - accuracy: 0.9670 - val_loss: 5.6891 - val_accuracy: 0.9419\n",
      "Epoch 7/20\n",
      "1029/1029 [==============================] - 0s 187us/sample - loss: 3.8943 - accuracy: 0.9650 - val_loss: 9.7595 - val_accuracy: 0.9419\n",
      "Epoch 8/20\n",
      "1029/1029 [==============================] - 0s 166us/sample - loss: 1.9114 - accuracy: 0.9786 - val_loss: 6.4771 - val_accuracy: 0.9496\n",
      "Epoch 9/20\n",
      "1029/1029 [==============================] - 0s 170us/sample - loss: 2.8929 - accuracy: 0.9757 - val_loss: 5.1336 - val_accuracy: 0.9496\n",
      "Epoch 10/20\n",
      "1029/1029 [==============================] - 0s 160us/sample - loss: 3.9580 - accuracy: 0.9825 - val_loss: 5.8493 - val_accuracy: 0.9419\n",
      "Epoch 11/20\n",
      "1029/1029 [==============================] - 0s 172us/sample - loss: 1.8266 - accuracy: 0.9767 - val_loss: 3.9595 - val_accuracy: 0.9612\n",
      "Epoch 12/20\n",
      "1029/1029 [==============================] - 0s 161us/sample - loss: 0.6168 - accuracy: 0.9913 - val_loss: 4.0317 - val_accuracy: 0.9690\n",
      "Epoch 13/20\n",
      "1029/1029 [==============================] - 0s 162us/sample - loss: 2.4519 - accuracy: 0.9835 - val_loss: 8.7135 - val_accuracy: 0.9457\n",
      "Epoch 14/20\n",
      "1029/1029 [==============================] - 0s 161us/sample - loss: 1.2738 - accuracy: 0.9883 - val_loss: 5.1972 - val_accuracy: 0.9535\n",
      "Epoch 15/20\n",
      "1029/1029 [==============================] - 0s 186us/sample - loss: 0.6734 - accuracy: 0.9922 - val_loss: 5.3375 - val_accuracy: 0.9535\n",
      "Epoch 16/20\n",
      "1029/1029 [==============================] - 0s 169us/sample - loss: 1.3544 - accuracy: 0.9893 - val_loss: 6.1490 - val_accuracy: 0.9574\n",
      "Epoch 17/20\n",
      "1029/1029 [==============================] - 0s 175us/sample - loss: 2.0443 - accuracy: 0.9864 - val_loss: 7.5696 - val_accuracy: 0.9341\n",
      "Epoch 18/20\n",
      "1029/1029 [==============================] - 0s 190us/sample - loss: 1.5843 - accuracy: 0.9874 - val_loss: 7.3360 - val_accuracy: 0.9457\n",
      "Epoch 19/20\n",
      "1029/1029 [==============================] - 0s 170us/sample - loss: 1.3464 - accuracy: 0.9903 - val_loss: 5.1985 - val_accuracy: 0.9457\n",
      "Epoch 20/20\n",
      "1029/1029 [==============================] - 0s 161us/sample - loss: 2.4456 - accuracy: 0.9874 - val_loss: 9.9706 - val_accuracy: 0.9419\n"
     ]
    },
    {
     "data": {
      "image/png": "[encoded data removed]",
      "text/plain": [
       "<Figure size 432x288 with 1 Axes>"
      ]
     },
     "metadata": {
      "needs_background": "light"
     },
     "output_type": "display_data"
    },
    {
     "data": {
      "image/png": "[encoded data removed]",
      "text/plain": [
       "<Figure size 432x288 with 1 Axes>"
      ]
     },
     "metadata": {
      "needs_background": "light"
     },
     "output_type": "display_data"
    }
   ],
   "source": [
    "model=tf.keras.models.Sequential([\n",
    "    tf.keras.layers.Dense(512,activation='relu',input_shape=(1000,)),\n",
    "    tf.keras.layers.Dropout(0.4),\n",
    "    tf.keras.layers.Dense(64,activation='relu'),\n",
    "    tf.keras.layers.Dropout(0.2),\n",
    "    tf.keras.layers.Dense(3,activation='softmax')\n",
    "])\n",
    "## Sequential Neural Network with relu activation and Dropout Parameter to introduce Regularisation\n",
    "\n",
    "model.compile(optimizer='adam',metrics=['accuracy'],loss='sparse_categorical_crossentropy') # Using adam optimiser and Categorical Entropy Loss\n",
    "history=model.fit(x=x_train,y=y_train,validation_data=(x_test,y_test),epochs=20)\n",
    "\n",
    "def plot_graphs(history,string):\n",
    "    plt.plot(history.history[string])\n",
    "    plt.plot(history.history['val_'+string])\n",
    "    plt.xlabel(\"Epochs\")\n",
    "    plt.ylabel(string)\n",
    "    plt.legend([string,'val_'+string])\n",
    "    plt.show()\n",
    "plot_graphs(history,'loss') # Plotting accuracy and los on validation and training data \n",
    "plot_graphs(history,'accuracy')"
   ]
  },
  {
   "cell_type": "code",
   "execution_count": 608,
   "metadata": {},
   "outputs": [],
   "source": [
    "x_check=test_data.drop(columns=['Index']) ## Predict on the given Test Data\n",
    "y_predict=model.predict(x_check)"
   ]
  },
  {
   "cell_type": "code",
   "execution_count": 609,
   "metadata": {},
   "outputs": [],
   "source": [
    "lst=[]\n",
    "for i in y_predict_tan:\n",
    "    if i[0]>0.5:\n",
    "        lst.append(0)\n",
    "    elif i[1]>0.5:  \n",
    "        lst.append(1)\n",
    "    else:\n",
    "        lst.append(2)\n",
    "# Converting the one hot encoded values to discrete integer values        "
   ]
  },
  {
   "cell_type": "code",
   "execution_count": 610,
   "metadata": {},
   "outputs": [
    {
     "data": {
      "text/html": [
       "<div>\n",
       "<style scoped>\n",
       "    .dataframe tbody tr th:only-of-type {\n",
       "        vertical-align: middle;\n",
       "    }\n",
       "\n",
       "    .dataframe tbody tr th {\n",
       "        vertical-align: top;\n",
       "    }\n",
       "\n",
       "    .dataframe thead th {\n",
       "        text-align: right;\n",
       "    }\n",
       "</style>\n",
       "<table border=\"1\" class=\"dataframe\">\n",
       "  <thead>\n",
       "    <tr style=\"text-align: right;\">\n",
       "      <th></th>\n",
       "      <th>Status</th>\n",
       "    </tr>\n",
       "  </thead>\n",
       "  <tbody>\n",
       "    <tr>\n",
       "      <td>0</td>\n",
       "      <td>0</td>\n",
       "    </tr>\n",
       "    <tr>\n",
       "      <td>1</td>\n",
       "      <td>0</td>\n",
       "    </tr>\n",
       "    <tr>\n",
       "      <td>2</td>\n",
       "      <td>2</td>\n",
       "    </tr>\n",
       "    <tr>\n",
       "      <td>3</td>\n",
       "      <td>0</td>\n",
       "    </tr>\n",
       "    <tr>\n",
       "      <td>4</td>\n",
       "      <td>0</td>\n",
       "    </tr>\n",
       "  </tbody>\n",
       "</table>\n",
       "</div>"
      ],
      "text/plain": [
       "   Status\n",
       "0       0\n",
       "1       0\n",
       "2       2\n",
       "3       0\n",
       "4       0"
      ]
     },
     "execution_count": 610,
     "metadata": {},
     "output_type": "execute_result"
    }
   ],
   "source": [
    "df=pd.DataFrame(lst)\n",
    "df=df.rename(columns={0:'Status'}) # Converting the list to dataframe\n",
    "df.head()"
   ]
  },
  {
   "cell_type": "code",
   "execution_count": 611,
   "metadata": {},
   "outputs": [],
   "source": [
    "df.to_csv('submission_fin.csv') # Storing as submission_fin.csv"
   ]
  }
 ],
 "metadata": {
  "kernelspec": {
   "display_name": "Python 3",
   "language": "python",
   "name": "python3"
  },
  "language_info": {
   "codemirror_mode": {
    "name": "ipython",
    "version": 3
   },
   "file_extension": ".py",
   "mimetype": "text/x-python",
   "name": "python",
   "nbconvert_exporter": "python",
   "pygments_lexer": "ipython3",
   "version": "3.7.3"
  }
 },
 "nbformat": 4,
 "nbformat_minor": 4
}
